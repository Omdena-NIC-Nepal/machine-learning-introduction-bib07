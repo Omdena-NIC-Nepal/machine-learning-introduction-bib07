{
 "cells": [
  {
   "cell_type": "code",
   "execution_count": 3,
   "metadata": {},
   "outputs": [],
   "source": [
    "import sys\n",
    "import os\n",
    "sys.path.append(os.path.abspath(os.path.join('..')))"
   ]
  },
  {
   "cell_type": "code",
   "execution_count": 4,
   "metadata": {},
   "outputs": [],
   "source": [
    "from scripts.data_preprocessing import preprocess_data\n",
    "from scripts.train_model import train_model"
   ]
  },
  {
   "cell_type": "code",
   "execution_count": 5,
   "metadata": {},
   "outputs": [],
   "source": [
    "X_train, X_test, y_train, y_test, scaler = preprocess_data('../data/BostonHousing.csv')\n"
   ]
  },
  {
   "cell_type": "code",
   "execution_count": 6,
   "metadata": {},
   "outputs": [
    {
     "data": {
      "text/plain": [
       "array([[ 1.32780421, -0.48772236,  1.01599907, ...,  0.80657583,\n",
       "        -0.07887794,  1.7181012 ],\n",
       "       [-0.34750602, -0.48772236, -0.43725801, ...,  1.17646583,\n",
       "         0.42701755, -0.5863558 ],\n",
       "       [-0.41648392,  1.01446252, -0.74074945, ..., -0.71922039,\n",
       "         0.06113692, -0.67606702],\n",
       "       ...,\n",
       "       [-0.41877066,  2.94584308, -1.3316823 , ..., -0.67298414,\n",
       "         0.37570436, -0.93398678],\n",
       "       [ 0.87825441, -0.48772236,  1.01599907, ...,  0.80657583,\n",
       "        -2.70626713,  1.48821619],\n",
       "       [-0.39389588, -0.48772236, -0.37597609, ...,  1.13022958,\n",
       "        -3.13442533, -0.28358043]], shape=(404, 13))"
      ]
     },
     "execution_count": 6,
     "metadata": {},
     "output_type": "execute_result"
    }
   ],
   "source": [
    "X_train"
   ]
  },
  {
   "cell_type": "code",
   "execution_count": 15,
   "metadata": {},
   "outputs": [],
   "source": [
    "model = train_model(X_train, y_train)"
   ]
  },
  {
   "cell_type": "code",
   "execution_count": 17,
   "metadata": {},
   "outputs": [
    {
     "name": "stdout",
     "output_type": "stream",
     "text": [
      "Intercept: 22.485268239316902\n",
      "Coefficients: [-0.97149423  0.70155562  0.27675212  0.70653152 -1.99143043  3.11571836\n",
      " -0.17706021 -3.04577065  2.28278471 -1.79260468 -1.97995351  1.12649864\n",
      " -3.62814937]\n"
     ]
    }
   ],
   "source": [
    "print(\"Intercept:\", model.intercept_)\n",
    "print(\"Coefficients:\", model.coef_)\n"
   ]
  },
  {
   "cell_type": "code",
   "execution_count": null,
   "metadata": {},
   "outputs": [],
   "source": [
    "#Linear regresssion doesn't have many hyperparameters."
   ]
  }
 ],
 "metadata": {
  "kernelspec": {
   "display_name": ".venv",
   "language": "python",
   "name": "python3"
  },
  "language_info": {
   "codemirror_mode": {
    "name": "ipython",
    "version": 3
   },
   "file_extension": ".py",
   "mimetype": "text/x-python",
   "name": "python",
   "nbconvert_exporter": "python",
   "pygments_lexer": "ipython3",
   "version": "3.11.3"
  }
 },
 "nbformat": 4,
 "nbformat_minor": 2
}
